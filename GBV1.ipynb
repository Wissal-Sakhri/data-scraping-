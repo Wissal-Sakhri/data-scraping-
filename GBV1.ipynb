{
  "nbformat": 4,
  "nbformat_minor": 0,
  "metadata": {
    "colab": {
      "name": "GBV1",
      "provenance": [],
      "authorship_tag": "ABX9TyPJG3dO+dGoxfIqDUxzsIWv"
    },
    "kernelspec": {
      "name": "python3",
      "display_name": "Python 3"
    },
    "language_info": {
      "name": "python"
    },
    "accelerator": "GPU"
  },
  "cells": [
    {
      "cell_type": "code",
      "metadata": {
        "id": "k1mE1lbSBhKU"
      },
      "source": [
        "import tweepy\n",
        "from tweepy import OAuthHandler\n",
        "from tweepy.streaming import StreamListener\n",
        "import json\n",
        "from unidecode import unidecode\n",
        "import time\n",
        "import datetime\n",
        "from tqdm import tqdm\n",
        "import pandas as pd\n",
        "import numpy as np"
      ],
      "execution_count": null,
      "outputs": []
    },
    {
      "cell_type": "code",
      "metadata": {
        "id": "RxPlq7oFBhH6"
      },
      "source": [
        "consumer_key = 'YOUR-CONSUMER-KEY'\n",
        "consumer_secret = 'YOUR-CONSUMER-SECRET'\n",
        "access_token = 'YOUR-ACCESS-TOKEN'\n",
        "access_secret = 'YOUR-ACCESS-SECRET'"
      ],
      "execution_count": null,
      "outputs": []
    },
    {
      "cell_type": "code",
      "metadata": {
        "id": "U_Tk2B6ECVt0"
      },
      "source": [
        "auth = tweepy.OAuthHandler('YOUR-CONSUMER-KEY', 'YOUR-CONSUMER-SECRET')\n",
        "auth.set_access_token('YOUR-ACCESS-TOKEN','YOUR-ACCESS-SECRET')\n",
        "api = tweepy.API(auth, wait_on_rate_limit=True)"
      ],
      "execution_count": null,
      "outputs": []
    },
    {
      "cell_type": "code",
      "metadata": {
        "id": "68qP-_RCJdmz"
      },
      "source": [
        "def tweetSearch(query, limit):\n",
        "    tweets  =[]\n",
        "    for page in tweepy.Cursor(api.search, q=query, count=limit, tweet_mode=\"extended\" ).pages(limit):\n",
        "      for tweet in page:\n",
        "        tweets.append(tweet)\n",
        "    return tweets"
      ],
      "execution_count": null,
      "outputs": []
    },
    {
      "cell_type": "code",
      "metadata": {
        "id": "JuD6CROQK0za"
      },
      "source": [
        "def tweets_to_data_frame(tweets):\n",
        "  df = pd.DataFrame(data=[tweet.full_text.encode('utf-8') for tweet in tweets], columns=[\"Tweets\"])\n",
        "  df[\"id\"] = np.array([tweet.id for tweet in tweets])\n",
        "  df[\"lens\"] = np.array([len(tweet.full_text) for tweet in tweets])\n",
        "  df[\"date\"] = np.array([tweet.created_at for tweet in tweets])\n",
        "  df[\"place\"] = np.array([tweet.place for tweet in tweets])\n",
        "  df[\"coordinateS\"] = np.array([tweet.coordinates for tweet in tweets])\n",
        "  df[\"lang\"] = np.array([tweet.lang for tweet in tweets])\n",
        "  df[\"source\"] = np.array([tweet.source for tweet in tweets])\n",
        "  df[\"likes\"] = np.array([tweet.favorite_count for tweet in tweets])\n",
        "  df[\"retweets\"] = np.array([tweet.retweet_count for tweet in tweets])\n",
        "  return df"
      ],
      "execution_count": null,
      "outputs": []
    },
    {
      "cell_type": "code",
      "metadata": {
        "colab": {
          "base_uri": "https://localhost:8080/"
        },
        "id": "DtMkU4u8ylMM",
        "outputId": "02b5ad10-38bf-4337-936c-5e24e10856c3"
      },
      "source": [
        "mkdir data"
      ],
      "execution_count": null,
      "outputs": [
        {
          "output_type": "stream",
          "text": [
            "mkdir: cannot create directory ‘data’: File exists\n"
          ],
          "name": "stdout"
        }
      ]
    },
    {
      "cell_type": "code",
      "metadata": {
        "id": "0_U6B-TP0XGr"
      },
      "source": [
        "hashtags = ['#GBV', '#sexism', '#rape' , '#endgbv', '#genderbasedviolence' , '#YessAllWomen' , '#MeeToo' ,'#CGSHEquity', '#GBVFridays', '#YOUTHAGAINSTGBV','#GenerationEquality' ,'#combattingviolentextremism','#sexualabuse','#domesticvilence','#sexualviolence','#harass','#sexualharrassement','#womenphysicalviolence','#sexualassult','#sextrafficking','#forcedmarriage','#allgbv']\n"
      ],
      "execution_count": null,
      "outputs": []
    },
    {
      "cell_type": "code",
      "metadata": {
        "id": "xPX4pJGY0X5Z"
      },
      "source": [
        "from tqdm import tqdm"
      ],
      "execution_count": null,
      "outputs": []
    },
    {
      "cell_type": "code",
      "metadata": {
        "id": "tVACGSh3ajsa",
        "colab": {
          "base_uri": "https://localhost:8080/"
        },
        "outputId": "32a615cc-5928-4e4a-cc03-633db796fcaa"
      },
      "source": [
        "total_tweets = 0\n",
        "\n",
        "for n in tqdm(hashtags):\n",
        "  hash_tweets = tweetSearch(query=n,limit=7000)\n",
        "  total_tweets += int(len(hash_tweets))\n",
        "  # second we convert our tweets into datarame\n",
        "  df = tweets_to_data_frame(hash_tweets)\n",
        "  #third we save the dataframe into csv file\n",
        "  df.to_csv(\"data/{}_tweets.csv\".format(n))\n",
        "  # show total number of tweets collected \n",
        "print(\"total_tweets: {}\".format(total_tweets))"
      ],
      "execution_count": null,
      "outputs": [
        {
          "output_type": "stream",
          "text": [
            "100%|██████████| 22/22 [15:52<00:00, 43.28s/it]"
          ],
          "name": "stderr"
        },
        {
          "output_type": "stream",
          "text": [
            "total_tweets: 20376\n"
          ],
          "name": "stdout"
        },
        {
          "output_type": "stream",
          "text": [
            "\n"
          ],
          "name": "stderr"
        }
      ]
    },
    {
      "cell_type": "code",
      "metadata": {
        "id": "5ODtx2o2CYqz"
      },
      "source": [
        "assault_df = pd.read_csv('/content/data/#rape_tweets.csv')\n"
      ],
      "execution_count": null,
      "outputs": []
    },
    {
      "cell_type": "code",
      "metadata": {
        "colab": {
          "base_uri": "https://localhost:8080/",
          "height": 204
        },
        "id": "QOmFx3gv7E3I",
        "outputId": "c68d5f05-1422-4fa3-90cf-0d906dfa6986"
      },
      "source": [
        "assault_df.head()\n"
      ],
      "execution_count": null,
      "outputs": [
        {
          "output_type": "execute_result",
          "data": {
            "text/html": [
              "<div>\n",
              "<style scoped>\n",
              "    .dataframe tbody tr th:only-of-type {\n",
              "        vertical-align: middle;\n",
              "    }\n",
              "\n",
              "    .dataframe tbody tr th {\n",
              "        vertical-align: top;\n",
              "    }\n",
              "\n",
              "    .dataframe thead th {\n",
              "        text-align: right;\n",
              "    }\n",
              "</style>\n",
              "<table border=\"1\" class=\"dataframe\">\n",
              "  <thead>\n",
              "    <tr style=\"text-align: right;\">\n",
              "      <th></th>\n",
              "      <th>Unnamed: 0</th>\n",
              "      <th>Tweets</th>\n",
              "      <th>id</th>\n",
              "      <th>lens</th>\n",
              "      <th>date</th>\n",
              "      <th>place</th>\n",
              "      <th>coordinateS</th>\n",
              "      <th>lang</th>\n",
              "      <th>source</th>\n",
              "      <th>likes</th>\n",
              "      <th>retweets</th>\n",
              "    </tr>\n",
              "  </thead>\n",
              "  <tbody>\n",
              "    <tr>\n",
              "      <th>0</th>\n",
              "      <td>0</td>\n",
              "      <td>b'RT @WomensPeaceNW: \\xf0\\x9f\\x9b\\x91The decad...</td>\n",
              "      <td>1393172888400891907</td>\n",
              "      <td>140</td>\n",
              "      <td>2021-05-14 11:54:35</td>\n",
              "      <td>NaN</td>\n",
              "      <td>NaN</td>\n",
              "      <td>en</td>\n",
              "      <td>Twitter for Android</td>\n",
              "      <td>0</td>\n",
              "      <td>28</td>\n",
              "    </tr>\n",
              "    <tr>\n",
              "      <th>1</th>\n",
              "      <td>1</td>\n",
              "      <td>b\"\\xe0\\xa4\\x85\\xe0\\xa4\\xb8\\xe0\\xa5\\x8d\\xe0\\xa4...</td>\n",
              "      <td>1393172092867145729</td>\n",
              "      <td>283</td>\n",
              "      <td>2021-05-14 11:51:25</td>\n",
              "      <td>NaN</td>\n",
              "      <td>NaN</td>\n",
              "      <td>hi</td>\n",
              "      <td>TweetDeck</td>\n",
              "      <td>0</td>\n",
              "      <td>0</td>\n",
              "    </tr>\n",
              "    <tr>\n",
              "      <th>2</th>\n",
              "      <td>2</td>\n",
              "      <td>b'RT @Calinka005: #Morocco\\xe2\\x80\\x99s viciou...</td>\n",
              "      <td>1393171297383993352</td>\n",
              "      <td>140</td>\n",
              "      <td>2021-05-14 11:48:15</td>\n",
              "      <td>NaN</td>\n",
              "      <td>NaN</td>\n",
              "      <td>en</td>\n",
              "      <td>Twitter Web App</td>\n",
              "      <td>0</td>\n",
              "      <td>5</td>\n",
              "    </tr>\n",
              "    <tr>\n",
              "      <th>3</th>\n",
              "      <td>3</td>\n",
              "      <td>b'RT @BabySingh99: \\xe0\\xa4\\xaf\\xe0\\xa5\\x87 \\x...</td>\n",
              "      <td>1393170925290344461</td>\n",
              "      <td>138</td>\n",
              "      <td>2021-05-14 11:46:47</td>\n",
              "      <td>NaN</td>\n",
              "      <td>NaN</td>\n",
              "      <td>hi</td>\n",
              "      <td>Twitter for iPhone</td>\n",
              "      <td>0</td>\n",
              "      <td>11</td>\n",
              "    </tr>\n",
              "    <tr>\n",
              "      <th>4</th>\n",
              "      <td>4</td>\n",
              "      <td>b'RT @thatsTamil: \\xe0\\xae\\x95\\xe0\\xaf\\x81\\xe0...</td>\n",
              "      <td>1393170595542491138</td>\n",
              "      <td>140</td>\n",
              "      <td>2021-05-14 11:45:28</td>\n",
              "      <td>NaN</td>\n",
              "      <td>NaN</td>\n",
              "      <td>ta</td>\n",
              "      <td>Twitter Web App</td>\n",
              "      <td>0</td>\n",
              "      <td>4</td>\n",
              "    </tr>\n",
              "  </tbody>\n",
              "</table>\n",
              "</div>"
            ],
            "text/plain": [
              "   Unnamed: 0  ... retweets\n",
              "0           0  ...       28\n",
              "1           1  ...        0\n",
              "2           2  ...        5\n",
              "3           3  ...       11\n",
              "4           4  ...        4\n",
              "\n",
              "[5 rows x 11 columns]"
            ]
          },
          "metadata": {
            "tags": []
          },
          "execution_count": 14
        }
      ]
    },
    {
      "cell_type": "code",
      "metadata": {
        "colab": {
          "base_uri": "https://localhost:8080/"
        },
        "id": "F1uE7iFWnMnF",
        "outputId": "277d210a-5788-4c9a-976e-2289101563e9"
      },
      "source": [
        "assault_df.info()"
      ],
      "execution_count": null,
      "outputs": [
        {
          "output_type": "stream",
          "text": [
            "<class 'pandas.core.frame.DataFrame'>\n",
            "RangeIndex: 6218 entries, 0 to 6217\n",
            "Data columns (total 11 columns):\n",
            " #   Column       Non-Null Count  Dtype  \n",
            "---  ------       --------------  -----  \n",
            " 0   Unnamed: 0   6218 non-null   int64  \n",
            " 1   Tweets       6218 non-null   object \n",
            " 2   id           6218 non-null   int64  \n",
            " 3   lens         6218 non-null   int64  \n",
            " 4   date         6218 non-null   object \n",
            " 5   place        20 non-null     object \n",
            " 6   coordinateS  0 non-null      float64\n",
            " 7   lang         6218 non-null   object \n",
            " 8   source       6218 non-null   object \n",
            " 9   likes        6218 non-null   int64  \n",
            " 10  retweets     6218 non-null   int64  \n",
            "dtypes: float64(1), int64(5), object(5)\n",
            "memory usage: 534.5+ KB\n"
          ],
          "name": "stdout"
        }
      ]
    },
    {
      "cell_type": "code",
      "metadata": {
        "id": "TqIeICjT1zTj"
      },
      "source": [
        "import re\n"
      ],
      "execution_count": null,
      "outputs": []
    },
    {
      "cell_type": "code",
      "metadata": {
        "id": "pubkXT2xnPnr"
      },
      "source": [
        "def clean_tweet(tweet):\n",
        "    return ' '.join(re.sub('(@[A-Za-z0-9]+)|([^0-9A-Za-z \\t])|(\\w+:\\/\\/\\S+)', ' ', tweet).split())"
      ],
      "execution_count": null,
      "outputs": []
    },
    {
      "cell_type": "code",
      "metadata": {
        "id": "AQM2gplMzZDc"
      },
      "source": [
        "assault_df['clean_tweet'] = assault_df['Tweets'].apply(lambda x: clean_tweet(x))"
      ],
      "execution_count": null,
      "outputs": []
    },
    {
      "cell_type": "code",
      "metadata": {
        "colab": {
          "base_uri": "https://localhost:8080/"
        },
        "id": "s8Iyxfq3110z",
        "outputId": "c38171ce-c105-401b-e780-ac22dda03895"
      },
      "source": [
        "assault_df['clean_tweet'].head()\n"
      ],
      "execution_count": null,
      "outputs": [
        {
          "output_type": "execute_result",
          "data": {
            "text/plain": [
              "0    b RT xf0 x9f x9b x91The decades long impunity ...\n",
              "1    b xe0 xa4 x85 xe0 xa4 xb8 xe0 xa5 x8d xe0 xa4 ...\n",
              "2    b RT Morocco xe2 x80 x99s vicious MoroccanPoli...\n",
              "3    b RT xe0 xa4 xaf xe0 xa5 x87 xe0 xa4 xb9 xe0 x...\n",
              "4    b RT xe0 xae x95 xe0 xaf x81 xe0 xae xb3 xe0 x...\n",
              "Name: clean_tweet, dtype: object"
            ]
          },
          "metadata": {
            "tags": []
          },
          "execution_count": 27
        }
      ]
    },
    {
      "cell_type": "code",
      "metadata": {
        "colab": {
          "base_uri": "https://localhost:8080/"
        },
        "id": "clsEzUU82GvK",
        "outputId": "56e0f39d-ab1e-453d-86a9-b91f040e0de6"
      },
      "source": [
        "n=3000\n",
        "print('Original tweet:\\n'+ assault_df['Tweets'][n])\n",
        "print()\n",
        "print('Clean tweet:\\n'+assault_df['clean_tweet'][n])\n",
        "print()"
      ],
      "execution_count": null,
      "outputs": [
        {
          "output_type": "stream",
          "text": [
            "Original tweet:\n",
            "b'RT @majidahhashim: Hi @PDRMsia, this is a threat to #rape a child. This predator must be stopped. Rape is not a joke. All rape threats must\\xe2\\x80\\xa6'\n",
            "\n",
            "Clean tweet:\n",
            "b RT Hi this is a threat to rape a child This predator must be stopped Rape is not a joke All rape threats must xe2 x80 xa6\n",
            "\n"
          ],
          "name": "stdout"
        }
      ]
    }
  ]
}
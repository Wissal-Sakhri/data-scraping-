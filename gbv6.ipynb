{
  "nbformat": 4,
  "nbformat_minor": 0,
  "metadata": {
    "colab": {
      "name": "gbv6.ipynb",
      "provenance": [],
      "authorship_tag": "ABX9TyM8GutlLrJCAoXPNu4dbvIA"
    },
    "kernelspec": {
      "name": "python3",
      "display_name": "Python 3"
    },
    "language_info": {
      "name": "python"
    },
    "accelerator": "GPU"
  },
  "cells": [
    {
      "cell_type": "code",
      "metadata": {
        "id": "wfRxEQfiM9iW"
      },
      "source": [
        "import tweepy\n",
        "import csv"
      ],
      "execution_count": null,
      "outputs": []
    },
    {
      "cell_type": "code",
      "metadata": {
        "id": "iUZQZAXmbyDP"
      },
      "source": [
        "consumer_key = '######'\n",
        "consumer_secret_key= '####'\n",
        "access_token = '####'\n",
        "access_token_secret = '#####'"
      ],
      "execution_count": null,
      "outputs": []
    },
    {
      "cell_type": "code",
      "metadata": {
        "id": "g31JMd9XcBvj"
      },
      "source": [
        "auth = tweepy.OAuthHandler(consumer_key, consumer_secret_key)\n",
        "auth.set_access_token(access_token, access_token_secret)\n",
        "api = tweepy.API(auth, wait_on_rate_limit=True,wait_on_rate_limit_notify=True)"
      ],
      "execution_count": null,
      "outputs": []
    },
    {
      "cell_type": "code",
      "metadata": {
        "id": "c7CK7cCsYdBL"
      },
      "source": [
        "import pandas as pd"
      ],
      "execution_count": null,
      "outputs": []
    },
    {
      "cell_type": "code",
      "metadata": {
        "id": "QSkjwy3SXy3A"
      },
      "source": [
        "df = pd.DataFrame(columns = ['name', 'tweet', 'retweets', \n",
        "                             'location', 'created', 'followers',\n",
        "                             'User_statuses_count',\n",
        "                             'is_user_verified',\n",
        "                             'fav_count', 'rt_count'])"
      ],
      "execution_count": null,
      "outputs": []
    },
    {
      "cell_type": "code",
      "metadata": {
        "id": "6bdzdbB7l_vb"
      },
      "source": [
        "def stream_tweets(search_term, file_name):\n",
        "    i = 0\n",
        "    \n",
        "    for tweet in tweepy.Cursor(api.search, q=search_term, count=100, lang='en', tweet_mode='extended').items():\n",
        "        print(i, end='\\r')\n",
        "        df.loc[i,'name'] = tweet.user.screen_name\n",
        "        df.loc[i,'tweet'] = tweet.full_text\n",
        "        df.loc[i,'retweets'] = tweet.retweet_count\n",
        "        df.loc[i,'location'] = tweet.user.location\n",
        "        df.loc[i,'created'] = tweet.created_at.strftime(\"%d-%b-%Y\")\n",
        "        df.loc[i,'followers'] = tweet.user.followers_count\n",
        "        df.loc[i,'is_user_verified'] = tweet.user.verified\n",
        "        df.loc[i, 'User_statuses_count'] = tweet.user.statuses_count\n",
        "        df.loc[i, 'fav_count'] = tweet.favorite_count\n",
        "        df.loc[i, 'rt_count'] = tweet.retweet_count \n",
        "        df.to_excel('{}.xlsx'.format(file_name))       \n",
        "        i += 1\n",
        "        if i == 7000:\n",
        "            break\n",
        "        else:\n",
        "            pass\n",
        "    print('done!')"
      ],
      "execution_count": null,
      "outputs": []
    },
    {
      "cell_type": "code",
      "metadata": {
        "id": "MQBidkG6nVfB"
      },
      "source": [
        "search_terms = ['terms']\n"
      ],
      "execution_count": null,
      "outputs": []
    },
    {
      "cell_type": "code",
      "metadata": {
        "colab": {
          "base_uri": "https://localhost:8080/"
        },
        "id": "M_Vv2Z_nmtDT",
        "outputId": "60d5c67f-8928-42ea-e613-d67179fa8b9c"
      },
      "source": [
        "if __name__ == \"__main__\":\n",
        "    print('Starting to stream...')\n",
        "    for search_term in search_terms:\n",
        "        stream_tweets(['search_term'],file_name = str(search_term))\n",
        "    print('finished!')"
      ],
      "execution_count": null,
      "outputs": [
        {
          "output_type": "stream",
          "text": [
            "Starting to stream...\n",
            "done!\n",
            "done!\n"
          ],
          "name": "stdout"
        }
      ]
    },
    {
      "cell_type": "code",
      "metadata": {
        "id": "Gn_Ot6cwRFBJ"
      },
      "source": [
        "def clean_tweet(tweet):\n",
        "    return ' '.join(re.sub('(@[A-Za-z0-9]+)|([^0-9A-Za-z \\t])|(\\w+:\\/\\/\\S+)', ' ', tweet).split())"
      ],
      "execution_count": null,
      "outputs": []
    },
    {
      "cell_type": "code",
      "metadata": {
        "id": "cLhmgXi1RGNL"
      },
      "source": [
        "df['clean_tweet'] = df['tweet'].apply(lambda x: clean_tweet(x))\n"
      ],
      "execution_count": null,
      "outputs": []
    }
  ]
}